{
  "nbformat": 4,
  "nbformat_minor": 0,
  "metadata": {
    "colab": {
      "name": "Untitled9.ipynb",
      "provenance": []
    },
    "kernelspec": {
      "name": "python3",
      "display_name": "Python 3"
    },
    "language_info": {
      "name": "python"
    }
  },
  "cells": [
    {
      "cell_type": "code",
      "metadata": {
        "colab": {
          "base_uri": "https://localhost:8080/"
        },
        "id": "QT2Gc1wBvZYV",
        "outputId": "4021e6bf-5bcb-4cb4-9f89-0b02f3f117c5"
      },
      "source": [
        "firstname=input(\"Enter first name\")\n",
        "lastname=input(\"Enter last name\")\n",
        "fullnames=(firstname + \"\" + lastname)\n",
        "print(fullnames)"
      ],
      "execution_count": 1,
      "outputs": [
        {
          "output_type": "stream",
          "text": [
            "Enter first name  John\n",
            "Enter last name   Bosco\n",
            "  John   Bosco\n"
          ],
          "name": "stdout"
        }
      ]
    }
  ]
}